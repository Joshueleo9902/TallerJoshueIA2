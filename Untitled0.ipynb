{
  "nbformat": 4,
  "nbformat_minor": 0,
  "metadata": {
    "colab": {
      "name": "Untitled0.ipynb",
      "provenance": [],
      "authorship_tag": "ABX9TyNrr3G/m2P4ZfjhA+SE7pz2",
      "include_colab_link": true
    },
    "kernelspec": {
      "name": "python3",
      "display_name": "Python 3"
    },
    "language_info": {
      "name": "python"
    }
  },
  "cells": [
    {
      "cell_type": "markdown",
      "metadata": {
        "id": "view-in-github",
        "colab_type": "text"
      },
      "source": [
        "<a href=\"https://colab.research.google.com/github/Joshueleo9902/TallerJoshueIA2/blob/gh-pages/Untitled0.ipynb\" target=\"_parent\"><img src=\"https://colab.research.google.com/assets/colab-badge.svg\" alt=\"Open In Colab\"/></a>"
      ]
    },
    {
      "cell_type": "code",
      "metadata": {
        "colab": {
          "base_uri": "https://localhost:8080/"
        },
        "id": "U_wLefKg5uJR",
        "outputId": "dcf55ee0-51b5-4963-d1d3-cd5cb2c351c5"
      },
      "source": [
        " pip install bigml"
      ],
      "execution_count": 1,
      "outputs": [
        {
          "output_type": "stream",
          "text": [
            "Collecting bigml\n",
            "\u001b[?25l  Downloading https://files.pythonhosted.org/packages/67/35/c5e3ef011c384ebc8faf1ecac81806c35cd57b54e9daf869a1de5116608e/bigml-6.1.2.tar.gz (581kB)\n",
            "\u001b[K     |████████████████████████████████| 583kB 7.7MB/s \n",
            "\u001b[?25hCollecting unidecode\n",
            "\u001b[?25l  Downloading https://files.pythonhosted.org/packages/9e/25/723487ca2a52ebcee88a34d7d1f5a4b80b793f179ee0f62d5371938dfa01/Unidecode-1.2.0-py2.py3-none-any.whl (241kB)\n",
            "\u001b[K     |████████████████████████████████| 245kB 14.7MB/s \n",
            "\u001b[?25hCollecting bigml-chronos>=0.4.3\n",
            "  Downloading https://files.pythonhosted.org/packages/f5/53/545a7b442bbf631ee06f26c12830ae1a838eab22c67759bd29e70d38b6d0/bigml-chronos-0.4.3.tar.gz\n",
            "Requirement already satisfied: requests in /usr/local/lib/python3.7/dist-packages (from bigml) (2.23.0)\n",
            "Collecting requests-toolbelt\n",
            "\u001b[?25l  Downloading https://files.pythonhosted.org/packages/60/ef/7681134338fc097acef8d9b2f8abe0458e4d87559c689a8c306d0957ece5/requests_toolbelt-0.9.1-py2.py3-none-any.whl (54kB)\n",
            "\u001b[K     |████████████████████████████████| 61kB 9.5MB/s \n",
            "\u001b[?25hRequirement already satisfied: numpy in /usr/local/lib/python3.7/dist-packages (from bigml) (1.19.5)\n",
            "Requirement already satisfied: scipy in /usr/local/lib/python3.7/dist-packages (from bigml) (1.4.1)\n",
            "Requirement already satisfied: msgpack in /usr/local/lib/python3.7/dist-packages (from bigml) (1.0.2)\n",
            "Collecting isoweek\n",
            "  Downloading https://files.pythonhosted.org/packages/c2/d4/fe7e2637975c476734fcbf53776e650a29680194eb0dd21dbdc020ca92de/isoweek-1.3.3-py2.py3-none-any.whl\n",
            "Requirement already satisfied: pytz in /usr/local/lib/python3.7/dist-packages (from bigml-chronos>=0.4.3->bigml) (2018.9)\n",
            "Requirement already satisfied: urllib3!=1.25.0,!=1.25.1,<1.26,>=1.21.1 in /usr/local/lib/python3.7/dist-packages (from requests->bigml) (1.24.3)\n",
            "Requirement already satisfied: chardet<4,>=3.0.2 in /usr/local/lib/python3.7/dist-packages (from requests->bigml) (3.0.4)\n",
            "Requirement already satisfied: certifi>=2017.4.17 in /usr/local/lib/python3.7/dist-packages (from requests->bigml) (2021.5.30)\n",
            "Requirement already satisfied: idna<3,>=2.5 in /usr/local/lib/python3.7/dist-packages (from requests->bigml) (2.10)\n",
            "Building wheels for collected packages: bigml, bigml-chronos\n",
            "  Building wheel for bigml (setup.py) ... \u001b[?25l\u001b[?25hdone\n",
            "  Created wheel for bigml: filename=bigml-6.1.2-cp37-none-any.whl size=446672 sha256=b4f3b45da9a5ab1527475d4edcb61664beb2151db73d8c720a6b16a3d5b66560\n",
            "  Stored in directory: /root/.cache/pip/wheels/a4/ff/be/027339aa713ba21f661e3b02cb2bf6415a03ea575930f676c8\n",
            "  Building wheel for bigml-chronos (setup.py) ... \u001b[?25l\u001b[?25hdone\n",
            "  Created wheel for bigml-chronos: filename=bigml_chronos-0.4.3-cp37-none-any.whl size=14665 sha256=173291a01bc85f9d2b71244551373925f7105ce69e712a99ec7bbd30d950c40b\n",
            "  Stored in directory: /root/.cache/pip/wheels/8e/fe/0d/12f195cefc5affdc9fefac37b6bba6af9d08254988664ffb94\n",
            "Successfully built bigml bigml-chronos\n",
            "Installing collected packages: unidecode, isoweek, bigml-chronos, requests-toolbelt, bigml\n",
            "Successfully installed bigml-6.1.2 bigml-chronos-0.4.3 isoweek-1.3.3 requests-toolbelt-0.9.1 unidecode-1.2.0\n"
          ],
          "name": "stdout"
        }
      ]
    },
    {
      "cell_type": "code",
      "metadata": {
        "colab": {
          "base_uri": "https://localhost:8080/"
        },
        "id": "fkAOZPPs5jHy",
        "outputId": "9c9c8a2d-08fa-4740-f7d3-817fb39341e2"
      },
      "source": [
        "#@title Precision de acuerdo a la edad  { run: \"auto\", vertical-output: true }\n",
        "Edad = 73 #@param {type:\"slider\", min:0, max:100, step:1}\n",
        "# Requires BigML Python bindings\n",
        "#\n",
        "# Install via: pip install bigml\n",
        "#\n",
        "# or clone it:\n",
        "#   git clone https://github.com/bigmlcom/python.git\n",
        "from bigml.linear import LinearRegression\n",
        "from bigml.api import BigML\n",
        "# Downloads and generates a local version of the linear regression,\n",
        "# if it hasn't been downloaded previously.\n",
        "linearregression = LinearRegression('linearregression/60e516159193b9173300915b',\n",
        "                  api=BigML(\"joshuenavarrete2013\",\n",
        "                            \"a6d3f8320c8d10956635248e4242a27523d0abcc\",\n",
        "                            domain=\"bigml.io\"))\n",
        "# To make predictions fill the desired input_data\n",
        "# in next line. All fields are compulsory if they don't have\n",
        "# missing values.\n",
        "input_data = {\n",
        "    \"Edad\": Edad \n",
        "}\n",
        "linearregression.predict(input_data)\n"
      ],
      "execution_count": 11,
      "outputs": [
        {
          "output_type": "execute_result",
          "data": {
            "text/plain": [
              "152.387293"
            ]
          },
          "metadata": {
            "tags": []
          },
          "execution_count": 11
        }
      ]
    }
  ]
}