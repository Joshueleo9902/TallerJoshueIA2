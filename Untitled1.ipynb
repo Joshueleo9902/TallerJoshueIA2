{
  "nbformat": 4,
  "nbformat_minor": 0,
  "metadata": {
    "colab": {
      "name": "Untitled1.ipynb",
      "provenance": [],
      "authorship_tag": "ABX9TyO0Rs3kp4TN75SWja9yOL81",
      "include_colab_link": true
    },
    "kernelspec": {
      "name": "python3",
      "display_name": "Python 3"
    },
    "language_info": {
      "name": "python"
    }
  },
  "cells": [
    {
      "cell_type": "markdown",
      "metadata": {
        "id": "view-in-github",
        "colab_type": "text"
      },
      "source": [
        "<a href=\"https://colab.research.google.com/github/Joshueleo9902/TallerJoshueIA2/blob/gh-pages/Untitled1.ipynb\" target=\"_parent\"><img src=\"https://colab.research.google.com/assets/colab-badge.svg\" alt=\"Open In Colab\"/></a>"
      ]
    },
    {
      "cell_type": "code",
      "metadata": {
        "colab": {
          "base_uri": "https://localhost:8080/"
        },
        "id": "kAANRAFjIQQm",
        "outputId": "7899ef6a-d555-47ed-be31-0146b52c9afe"
      },
      "source": [
        "pip install bigml"
      ],
      "execution_count": 2,
      "outputs": [
        {
          "output_type": "stream",
          "text": [
            "Requirement already satisfied: bigml in /usr/local/lib/python3.7/dist-packages (6.1.2)\n",
            "Requirement already satisfied: requests-toolbelt in /usr/local/lib/python3.7/dist-packages (from bigml) (0.9.1)\n",
            "Requirement already satisfied: unidecode in /usr/local/lib/python3.7/dist-packages (from bigml) (1.2.0)\n",
            "Requirement already satisfied: requests in /usr/local/lib/python3.7/dist-packages (from bigml) (2.23.0)\n",
            "Requirement already satisfied: scipy in /usr/local/lib/python3.7/dist-packages (from bigml) (1.4.1)\n",
            "Requirement already satisfied: bigml-chronos>=0.4.3 in /usr/local/lib/python3.7/dist-packages (from bigml) (0.4.3)\n",
            "Requirement already satisfied: msgpack in /usr/local/lib/python3.7/dist-packages (from bigml) (1.0.2)\n",
            "Requirement already satisfied: numpy in /usr/local/lib/python3.7/dist-packages (from bigml) (1.19.5)\n",
            "Requirement already satisfied: idna<3,>=2.5 in /usr/local/lib/python3.7/dist-packages (from requests->bigml) (2.10)\n",
            "Requirement already satisfied: chardet<4,>=3.0.2 in /usr/local/lib/python3.7/dist-packages (from requests->bigml) (3.0.4)\n",
            "Requirement already satisfied: urllib3!=1.25.0,!=1.25.1,<1.26,>=1.21.1 in /usr/local/lib/python3.7/dist-packages (from requests->bigml) (1.24.3)\n",
            "Requirement already satisfied: certifi>=2017.4.17 in /usr/local/lib/python3.7/dist-packages (from requests->bigml) (2021.5.30)\n",
            "Requirement already satisfied: pytz in /usr/local/lib/python3.7/dist-packages (from bigml-chronos>=0.4.3->bigml) (2018.9)\n",
            "Requirement already satisfied: isoweek in /usr/local/lib/python3.7/dist-packages (from bigml-chronos>=0.4.3->bigml) (1.3.3)\n"
          ],
          "name": "stdout"
        }
      ]
    },
    {
      "cell_type": "code",
      "metadata": {
        "colab": {
          "base_uri": "https://localhost:8080/"
        },
        "id": "6u9jjSTVHwLW",
        "outputId": "3e07c089-b71a-4fa8-dbea-edc22e4b1b8f"
      },
      "source": [
        "#@title Salario de acuerdo a la experiencia  { run: \"auto\", vertical-output: true }\n",
        "Edad = 37 #@param {type:\"slider\", min:0, max:100, step:1}\n",
        "# Requires BigML Python bindings\n",
        "#\n",
        "# Install via: pip install bigml\n",
        "#\n",
        "# or clone it:\n",
        "#   git clone https://github.com/bigmlcom/python.git\n",
        "from bigml.linear import LinearRegression\n",
        "from bigml.api import BigML\n",
        "# Downloads and generates a local version of the linear regression,\n",
        "# if it hasn't been downloaded previously.\n",
        "linearregression = LinearRegression('linearregression/60e5e90a9193b9173800553f',\n",
        "                  api=BigML(\"joshuenavarrete2013\",\n",
        "                            \"a6d3f8320c8d10956635248e4242a27523d0abcc\",\n",
        "                            domain=\"bigml.io\"))\n",
        "# To make predictions fill the desired input_data\n",
        "# in next line. All fields are compulsory if they don't have\n",
        "# missing values.\n",
        "input_data = {\n",
        "    \"Experiencia\": Edad\n",
        "}\n",
        "linearregression.predict(input_data)"
      ],
      "execution_count": 10,
      "outputs": [
        {
          "output_type": "execute_result",
          "data": {
            "text/plain": [
              "7089281.5"
            ]
          },
          "metadata": {
            "tags": []
          },
          "execution_count": 10
        }
      ]
    }
  ]
}